{
 "cells": [
  {
   "cell_type": "markdown",
   "metadata": {},
   "source": [
    "\n",
    "# מטלה-2 \n",
    "\n",
    "#  ליאור בסל - 033536798 \n",
    "\n",
    "#  חדד אליעזר - 022766364"
   ]
  },
  {
   "cell_type": "markdown",
   "metadata": {},
   "source": [
    "# https://github.com/Lior1212avior/Machine-learning/upload\t"
   ]
  },
  {
   "cell_type": "code",
   "execution_count": 112,
   "metadata": {},
   "outputs": [],
   "source": [
    "import pandas as pd\n",
    "from sklearn.impute import SimpleImputer\n",
    "from sklearn.compose import ColumnTransformer\n",
    "from sklearn.preprocessing import LabelEncoder, StandardScaler\n",
    "from sklearn.model_selection import train_test_split, cross_val_score, KFold\n",
    "from sklearn.linear_model import ElasticNet\n",
    "from sklearn.metrics import mean_absolute_error, mean_squared_error , r2_score  # Import r2_score\n",
    "import numpy as np\n",
    "import matplotlib.pyplot as plt\n",
    "import re"
   ]
  },
  {
   "cell_type": "markdown",
   "metadata": {},
   "source": [
    "# טיפול בנתוני הקובץ - הוספת 2 תכונות חדשות כגון: ק\"מ שנתי וכן ניקוד נוסף על הכנסת מס גבוה של תמונות , מילוי נתונים חסרים,משתנים קטגוריאליים, נרמול "
   ]
  },
  {
   "cell_type": "code",
   "execution_count": 113,
   "metadata": {},
   "outputs": [],
   "source": [
    "def prepare_data(file_path):\n",
    "    df = pd.read_csv(file_path)   \n",
    "    \n",
    "    \n",
    "# תיקון שמות המודל \n",
    "    results = []\n",
    "    for index, row in df.iterrows():\n",
    "        result = re.sub(re.escape(row['manufactor']), '', row['model'])\n",
    "        results.append(result)\n",
    "\n",
    "# Add the results to a new column in the DataFrame\n",
    "    df['model'] = results\n",
    "\n",
    "    \n",
    "     #   ניקוד גבוה על העלאת מס תמונות גבוה - יצירת תכונה חדשה נוספת במודל \n",
    "    \n",
    "    for index, row in df.iterrows():\n",
    "        if row['Pic_num'] == 0:\n",
    "            df.at[index, 'Pic_Score'] = 0\n",
    "        elif row['Pic_num'] == 1:\n",
    "            df.at[index, 'Pic_Score'] = 1\n",
    "        elif row['Pic_num'] >= 2 and row['Pic_num'] < 5:\n",
    "            df.at[index, 'Pic_Score'] = 2\n",
    "        elif row['Pic_num'] >= 5 and row['Pic_num'] < 8:\n",
    "            df.at[index, 'Pic_Score'] = 3\n",
    "        elif row['Pic_num'] >= 8 and row['Pic_num'] < 15:\n",
    "            df.at[index, 'Pic_Score'] = 4\n",
    "     \n",
    "        \n",
    "    # מילוי ערכים חסרים\n",
    "    df.fillna({\n",
    "        'Hand': df['Hand'].mode()[0],\n",
    "        'Gear': df['Gear'].mode()[0],\n",
    "        'capacity_Engine': df['capacity_Engine'].mode()[0],\n",
    "        'Prev_ownership': df['Prev_ownership'].mode()[0],\n",
    "        'Curr_ownership': df['Curr_ownership'].mode()[0],\n",
    "        'Area': df['Area'].mode()[0],\n",
    "        'City': df['City'].mode()[0],\n",
    "        'Pic_num': df['Pic_num'].mode()[0],\n",
    "        'Description': '',\n",
    "        'Color': df['Color'].mode()[0],\n",
    "        'Km': df['Km'].mode()[0],\n",
    "        'Test': df['Test'].mode()[0],\n",
    "        'Pic_Score': df['Pic_Score'].mode()[0],\n",
    "        'Supply_score': df['Supply_score'].mode()[0]\n",
    "        \n",
    "    }, inplace=True)\n",
    "   \n",
    "     \n",
    "    # טיפול בעמודת התאריך\n",
    "    df['Cre_date'] = pd.to_datetime(df['Cre_date'], format='%d/%m/%Y', errors='coerce')\n",
    "    df['Repub_date'] = pd.to_datetime(df['Repub_date'], format='%d/%m/%Y', errors='coerce')\n",
    "\n",
    "\n",
    "    # Alternatively, convert to a more interpretable numeric representation (e.g., day of the year)\n",
    "    df['Cre_date'] = df['Cre_date'].dt.dayofyear  # Day of the year as int\n",
    "    df['Repub_date'] = df['Repub_date'].dt.dayofyear  # Day of the year as int\n",
    "       \n",
    "     \n",
    "    # המרת כל ערכי NaN במחרוזות למחרוזת ריקה\n",
    "    categorical_columns = ['manufactor', 'model', 'Gear', 'Engine_type', 'Area', 'City', 'Color', 'Prev_ownership', 'Curr_ownership']\n",
    "    for col in categorical_columns:\n",
    "        df[col] = df[col].astype(str)\n",
    "   \n",
    "    # קידוד משתנים קטגוריאליים\n",
    "    le = LabelEncoder()\n",
    "    df['manufactor'] = le.fit_transform(df['manufactor'])\n",
    "    df['model'] = le.fit_transform(df['model'])\n",
    "    df['Gear'] = le.fit_transform(df['Gear'])\n",
    "    df['Engine_type'] = le.fit_transform(df['Engine_type'])\n",
    "    df['Area'] = le.fit_transform(df['Area'])\n",
    "    df['City'] = le.fit_transform(df['City'])\n",
    "    df['Color'] = le.fit_transform(df['Color'])\n",
    "    df['Prev_ownership'] = le.fit_transform(df['Prev_ownership'])\n",
    "    df['Curr_ownership'] = le.fit_transform(df['Curr_ownership'])\n",
    "    df['Pic_Score'] = le.fit_transform(df['Pic_Score'])\n",
    "   \n",
    "    # הסרת פסיקים והמרת העמודות הערכיות לפורמט float     \n",
    "    df['Km'] = df['Km'].str.replace(',', '').replace('None', '0').astype(float)\n",
    "    df['capacity_Engine'] = df['capacity_Engine'].str.replace(',', '').astype(float)\n",
    "    df['Year'].astype(int)\n",
    "    \n",
    "    # יצירת תכונות חדשות\n",
    "    \n",
    "    df['Car_age'] = 2024 - df['Year']\n",
    "    df['Km_Per_year'] = df['Km'] - df['Car_age'] \n",
    "    \n",
    "        \n",
    "    # Drop the 'Description', 'Cre_date', and 'Repub_date' columns\n",
    "    df.drop(columns=['Description', 'Cre_date', 'Repub_date'], inplace=True)\n",
    "        \n",
    "    \n",
    "    # נרמול התכונות\n",
    "    scaler = StandardScaler()\n",
    "    numeric_features = ['Km', 'Supply_score','Prev_ownership', 'Curr_ownership' ]\n",
    "    df[numeric_features] = scaler.fit_transform(df[numeric_features])\n",
    "  \n",
    "   \n",
    "    return df"
   ]
  },
  {
   "cell_type": "markdown",
   "metadata": {},
   "source": [
    "# הפעלת פונקצית_prepare_data  והוספת קוד עזר לבדיקת הנתונים בפועל"
   ]
  },
  {
   "cell_type": "code",
   "execution_count": 114,
   "metadata": {},
   "outputs": [
    {
     "name": "stdout",
     "output_type": "stream",
     "text": [
      "Completed\n"
     ]
    }
   ],
   "source": [
    "# מיקום קובץ מקור\n",
    "input_data = 'c:\\\\Temp\\\\dataset.csv'\n",
    "df = prepare_data(input_data)\n",
    "\n",
    "# Ensure df is not None\n",
    "if df is not None:\n",
    "    # Save the processed data to a new CSV file\n",
    "#     df.to_csv(utf8_file_path, index=False, encoding='utf-8-sig')\n",
    "    print('Completed')\n",
    "else:\n",
    "    print('Error: Data processing failed')"
   ]
  },
  {
   "cell_type": "markdown",
   "metadata": {},
   "source": [
    "# הגדרת התכונות והמחיר שיכנסו בפועל למודל "
   ]
  },
  {
   "cell_type": "markdown",
   "metadata": {},
   "source": [
    "#  בניית המודל בעזרת_ElasticNet "
   ]
  },
  {
   "cell_type": "markdown",
   "metadata": {},
   "source": [
    "# cross-validation"
   ]
  },
  {
   "cell_type": "code",
   "execution_count": 115,
   "metadata": {},
   "outputs": [],
   "source": [
    "# Define features and target\n",
    "X = df[['manufactor', 'model', 'Gear', 'Engine_type','Area', 'City', 'Km', 'capacity_Engine','Year','Supply_score','Km_Per_year','Pic_Score']]\n",
    "\n",
    "y = df['Price']\n",
    "\n",
    "\n",
    "# חלוקת הנתונים לסט אימון וסט בדיקה\n",
    "X_train, X_test, y_train, y_test = train_test_split(X, y, test_size=0.2, random_state=42)\n",
    "\n",
    "# בניית המודל והגדרת cross-validation\n",
    "model = ElasticNet(alpha=0.5, l1_ratio=0.2 , random_state=42)\n",
    "kf = KFold(n_splits=10, shuffle=True, random_state=42)\n",
    "\n",
    "# אימון המודל על כל סט האימון\n",
    "model.fit(X_train, y_train)\n",
    "\n",
    "# חיזוי על סט הבדיקה\n",
    "y_pred = model.predict(X_test)\n"
   ]
  },
  {
   "cell_type": "markdown",
   "metadata": {},
   "source": [
    "# הערכת ביצועי המודל: "
   ]
  },
  {
   "cell_type": "markdown",
   "metadata": {},
   "source": [
    "# הערכת ביצוע מודל בעזרת_KFold Cross-Validation RMSE"
   ]
  },
  {
   "cell_type": "markdown",
   "metadata": {},
   "source": [
    "# Fold Cross-Validation RMSE result: 17843.36131915945"
   ]
  },
  {
   "cell_type": "markdown",
   "metadata": {},
   "source": [
    "# הערכת ביצוע המודל על הטסט בעזרת_RMSE"
   ]
  },
  {
   "cell_type": "markdown",
   "metadata": {},
   "source": [
    "#  Predicted RMSE: 15769.42581511447"
   ]
  },
  {
   "cell_type": "code",
   "execution_count": 117,
   "metadata": {},
   "outputs": [
    {
     "name": "stdout",
     "output_type": "stream",
     "text": [
      "10-Fold Cross-Validation RMSE: 17843.36131915945\n",
      "Adjusted R-squared: 0.48761380581890246\n",
      "MAE: 12864.333811912444\n",
      "MSE: 248674790.53839865\n",
      "Predicted RMSE: 15769.42581511447\n"
     ]
    }
   ],
   "source": [
    "# ביצוע cross-validation\n",
    "cv_scores = cross_val_score(model, X_train, y_train, cv=kf, scoring='neg_mean_squared_error')\n",
    "cv_rmse_scores = np.sqrt(-cv_scores)\n",
    "\n",
    "print(f'10-Fold Cross-Validation RMSE: {cv_rmse_scores.mean()}')\n",
    "\n",
    "# ========================================\n",
    "# Calculate R-squared\n",
    "r2 = r2_score(y_test, y_pred)\n",
    "print(f'R-squared (R2): {r2}')\n",
    "\n",
    "# ========================================\n",
    "# Adjusted R-squared\n",
    "\n",
    "n = len(y_test)\n",
    "p = 2  # number of predictors\n",
    "\n",
    "def calculate_adjusted_r2(y_true, y_pred, n, p):\n",
    "    r2 = r2_score(y_test, y_pred)\n",
    "    return 1 - ((1 - r2) * (n - 1)) / (n - p - 1)\n",
    "\n",
    "print(\"Adjusted R-squared:\", calculate_adjusted_r2(y_test, y_pred, n, p))\n",
    "\n",
    "# ========================================\n",
    "# הערכת המודל על סט הבדיקה\n",
    "mae = mean_absolute_error(y_test, y_pred)\n",
    "mse = mean_squared_error(y_test, y_pred)\n",
    "rmse = np.sqrt(mse)\n",
    "\n",
    "print(f'MAE: {mae}')\n",
    "print(f'MSE: {mse}')\n",
    "print(f'Predicted RMSE: {rmse}')\n"
   ]
  },
  {
   "cell_type": "markdown",
   "metadata": {},
   "source": [
    "#  חמשת המאפיינים המשפיעים על החיזוי עם גודל וכיוון_Year,Gear,Engine_type,Supply_score,Manufactor  "
   ]
  },
  {
   "cell_type": "code",
   "execution_count": 118,
   "metadata": {},
   "outputs": [
    {
     "name": "stdout",
     "output_type": "stream",
     "text": [
      "Top 5 Features:\n",
      "Year            2805.727333\n",
      "Gear           -1594.725635\n",
      "Engine_type     1512.502241\n",
      "Supply_score    -966.754050\n",
      "manufactor      -420.604513\n",
      "dtype: float64\n",
      "Year: Positive (2805.727332748659)\n",
      "Gear: Negative (-1594.7256353693083)\n",
      "Engine_type: Positive (1512.5022410795732)\n",
      "Supply_score: Negative (-966.7540501926026)\n",
      "manufactor: Negative (-420.604513023741)\n"
     ]
    }
   ],
   "source": [
    "# חמשת המאפיינים המשפיעים ביותר על החיזוי\n",
    "\n",
    "feature_importance = pd.Series(model.coef_, index=X.columns)\n",
    "top_5_features = feature_importance.abs().nlargest(5)\n",
    "top_5_features = feature_importance[top_5_features.index]\n",
    "\n",
    "print(\"Top 5 Features:\")\n",
    "print(top_5_features)\n",
    "\n",
    "# הצגת השפעת המאפיינים\n",
    "for feature, coef in top_5_features.items():\n",
    "    if coef > 0:\n",
    "        influence = 'Positive'\n",
    "    else:\n",
    "        influence = 'Negative'\n",
    "    print(f'{feature}: {influence} ({coef})')\n"
   ]
  },
  {
   "cell_type": "markdown",
   "metadata": {},
   "source": [
    "# הצגת המודל בעזרת Scatter "
   ]
  },
  {
   "cell_type": "code",
   "execution_count": 119,
   "metadata": {},
   "outputs": [
    {
     "name": "stdout",
     "output_type": "stream",
     "text": [
      "      Actual     Predicted\n",
      "1116   67000  59740.524642\n",
      "1368   23000  43078.228525\n",
      "422    69500  55794.624347\n",
      "413    72000  64485.889338\n",
      "451    69000  55176.155512\n"
     ]
    },
    {
     "data": {
      "image/png": "[encoded data removed]",
      "text/plain": [
       "<Figure size 432x288 with 1 Axes>"
      ]
     },
     "metadata": {
      "needs_background": "light"
     },
     "output_type": "display_data"
    },
    {
     "name": "stdout",
     "output_type": "stream",
     "text": [
      "Compleated\n"
     ]
    }
   ],
   "source": [
    "\n",
    "# Show some predictions\n",
    "predictions = pd.DataFrame({'Actual': y_test, 'Predicted': y_pred})\n",
    "print(predictions.head())\n",
    "\n",
    "# ###################################################\n",
    "\n",
    "# Scatter plot of actual vs. predicted values\n",
    "# Gradient Descent Visualization with Linear Regression\n",
    "\n",
    "# model = LinearRegression()\n",
    "model.fit(X_train, y_train)\n",
    "\n",
    "# Plotting gradient descent\n",
    "fig, ax = plt.subplots()\n",
    "ax.plot(y_test, model.predict(X_test), 'b.', label='Predictions')\n",
    "ax.plot([min(y_test),max(y_test)], [min(y_test), max(y_test)], 'r-', label='Perfect fit')\n",
    "ax.set_xlabel('Actual Prices')\n",
    "ax.set_ylabel('Predicted Prices')\n",
    "ax.legend()\n",
    "ax.set_title('Linear Regression Predictions vs. Actual Prices')\n",
    "plt.show()\n",
    "\n",
    "\n",
    "y_pred = model.predict(X_test)\n",
    "plt.show()\n",
    "\n",
    "print('Compleated')\n",
    "\n",
    "\n",
    "\n"
   ]
  },
  {
   "cell_type": "code",
   "execution_count": null,
   "metadata": {},
   "outputs": [],
   "source": []
  }
 ],
 "metadata": {
  "kernelspec": {
   "display_name": "Python 3",
   "language": "python",
   "name": "python3"
  },
  "language_info": {
   "codemirror_mode": {
    "name": "ipython",
    "version": 3
   },
   "file_extension": ".py",
   "mimetype": "text/x-python",
   "name": "python",
   "nbconvert_exporter": "python",
   "pygments_lexer": "ipython3",
   "version": "3.8.3"
  }
 },
 "nbformat": 4,
 "nbformat_minor": 4
}
